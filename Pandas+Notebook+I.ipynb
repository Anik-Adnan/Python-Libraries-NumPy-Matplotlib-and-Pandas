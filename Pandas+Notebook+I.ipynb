{
  "cells": [
    {
      "cell_type": "markdown",
      "metadata": {
        "id": "view-in-github",
        "colab_type": "text"
      },
      "source": [
        "<a href=\"https://colab.research.google.com/github/Anik-Adnan/Python-Libraries-NumPy-Matplotlib-and-Pandas/blob/main/Pandas%2BNotebook%2BI.ipynb\" target=\"_parent\"><img src=\"https://colab.research.google.com/assets/colab-badge.svg\" alt=\"Open In Colab\"/></a>"
      ]
    },
    {
      "cell_type": "markdown",
      "metadata": {
        "id": "zyC32MwDOkMh"
      },
      "source": [
        "## Python Libraries - Pandas - Pandas Basics"
      ]
    },
    {
      "cell_type": "markdown",
      "metadata": {
        "id": "a_KCDl2FOkMj"
      },
      "source": [
        "Pandas is a library built using NumPy specifically for data analysis. You'll be using Pandas heavily for data manipulation, visualisation, building machine learning models, etc.\n",
        "\n",
        "There are two main data structures in Pandas:\n",
        "- Series\n",
        "- Dataframes\n",
        "\n",
        "The default way to store data is dataframes, and thus manipulating dataframes quickly is probably the most important skill set for data analysis."
      ]
    },
    {
      "cell_type": "code",
      "execution_count": null,
      "metadata": {
        "id": "o_ZlRxZnOkMl"
      },
      "outputs": [],
      "source": [
        "# import pandas, pd is an alias\n"
      ]
    },
    {
      "cell_type": "markdown",
      "metadata": {
        "id": "y60gyVEtOkMn"
      },
      "source": [
        "### The Pandas Series\n",
        "\n",
        "A series is similar to a 1-D numpy array, and contains scalar values of the same type (numeric, character, datetime etc.).\n",
        "A dataframe is simply a table where each column is a pandas series.\n"
      ]
    },
    {
      "cell_type": "code",
      "execution_count": null,
      "metadata": {
        "id": "AGHRXWZvOkMn"
      },
      "outputs": [],
      "source": [
        "# Creating a numeric pandas series\n",
        "s = pd.Series([2, 4, 5, 6, 9])\n",
        "print(s)\n",
        "print(type(s))"
      ]
    },
    {
      "cell_type": "code",
      "execution_count": null,
      "metadata": {
        "id": "ap4FntYkOkMo"
      },
      "outputs": [],
      "source": [
        "# creating a series of type datetime\n",
        "date_series = pd.date_range(start = '11-09-2017', end = '12-12-2017')\n",
        "date_series\n",
        "type(date_series)"
      ]
    },
    {
      "cell_type": "markdown",
      "metadata": {
        "id": "JpIwdURgOkMo"
      },
      "source": [
        "Note that each element in the Series has an index, and the index starts at 0 as usual."
      ]
    },
    {
      "cell_type": "markdown",
      "metadata": {
        "id": "7IXRca8pOkMp"
      },
      "source": [
        "### The Pandas Dataframe\n",
        "\n",
        "Dataframe is the most widely used data-structure in data analysis. It is a table with rows and columns, with rows having an index and columns having meaningful names.\n",
        "\n",
        "There are various ways of creating dataframes, such as creating them from dictionaries, JSON objects, reading from txt, CSV files, etc."
      ]
    },
    {
      "cell_type": "markdown",
      "metadata": {
        "id": "JIVofJowOkMq"
      },
      "source": [
        "#### Creating dataframes from dictionaries"
      ]
    },
    {
      "cell_type": "code",
      "execution_count": null,
      "metadata": {
        "id": "hSDe5b_wOkMq"
      },
      "outputs": [],
      "source": [
        "# Defining data to create lists for dictionary\n",
        "cars_per_cap = [809, 731, 588, 18, 200, 70, 45]\n",
        "country = ['United States', 'Australia', 'Japan', 'India', 'Russia', 'Morocco', 'Egypt']\n",
        "drives_right = [False, True, True, True, False, False, False]"
      ]
    },
    {
      "cell_type": "code",
      "execution_count": null,
      "metadata": {
        "id": "ZhaNlPobOkMs"
      },
      "outputs": [],
      "source": [
        "# Creating the dictionaries to store the entries as key-value pair.\n",
        "cars_dict = {\"cars_per_cap\" : cars_per_cap, \"country\" : country, \"drives_right\" : drives_right }\n",
        "\n",
        "# Create the dataframe 'cars'\n",
        "cars ="
      ]
    },
    {
      "cell_type": "code",
      "execution_count": null,
      "metadata": {
        "id": "ZQZ1MHsXOkMt"
      },
      "outputs": [],
      "source": [
        "# print the created dataframe\n"
      ]
    },
    {
      "cell_type": "markdown",
      "metadata": {
        "id": "95ABMvDaOkMt"
      },
      "source": [
        "#### Importing CSV data files as pandas dataframes\n",
        "\n",
        "For the upcoming exercises, we will use a car dataset which holds the following information:\n",
        "\n",
        "- Region Code\n",
        "- Country\n",
        "- Coutry Code\n",
        "- Car per capita\n",
        "- Drives Right"
      ]
    },
    {
      "cell_type": "code",
      "execution_count": null,
      "metadata": {
        "id": "hyK1MixgOkMu"
      },
      "outputs": [],
      "source": [
        "# read the data from the csv file\n",
        "cars =\n",
        "\n",
        "# check the dataframe created\n"
      ]
    },
    {
      "cell_type": "markdown",
      "metadata": {
        "id": "KmsgBQzfOkMu"
      },
      "source": [
        "As you can see from the dataframe above, the first row has been taken as the column header for the dataframe. Let's see how to prevent that."
      ]
    },
    {
      "cell_type": "code",
      "execution_count": null,
      "metadata": {
        "id": "qsCKG1edOkMu"
      },
      "outputs": [],
      "source": [
        "# load the dataframe from the csv without any header\n",
        "cars =\n",
        "\n",
        "# check the dataframe created\n"
      ]
    },
    {
      "cell_type": "markdown",
      "metadata": {
        "id": "p6584VDkOkMu"
      },
      "source": [
        "Now, the columns have the labels as 0, 1, 2, etc. The top row is now considered as a part of the row entries."
      ]
    },
    {
      "cell_type": "markdown",
      "metadata": {
        "id": "__jxR1EwOkMu"
      },
      "source": [
        ""
      ]
    },
    {
      "cell_type": "markdown",
      "metadata": {
        "id": "o9b1SLWvOkMv"
      },
      "source": [
        "## Python Libraries - Pandas - Rows and Columns"
      ]
    },
    {
      "cell_type": "markdown",
      "metadata": {
        "id": "-FCgsBSuOkMv"
      },
      "source": [
        "### Indices and Labels"
      ]
    },
    {
      "cell_type": "markdown",
      "metadata": {
        "id": "7PYWWu9COkMv"
      },
      "source": [
        "#### Indices\n",
        "\n",
        "An important concept in pandas dataframes is that of *row indices*. By default, each row is assigned indices starting from 0, and are represented at the left side of the dataframe.\n",
        "\n",
        "Now, arbitrary numeric indices are difficult to read and work with. Thus, you may want to change the indices of the dataframe to something more meanigful.\n",
        "\n",
        "Let's change the index to the second column which stores the country codes, so that you can select rows using the country code directly."
      ]
    },
    {
      "cell_type": "code",
      "execution_count": null,
      "metadata": {
        "id": "Td3C5zEoOkMv"
      },
      "outputs": [],
      "source": [
        "# load the data into a dataframe with no header and index column as the second column\n",
        "cars =\n",
        "\n",
        "# Check the created dataframe\n"
      ]
    },
    {
      "cell_type": "code",
      "execution_count": null,
      "metadata": {
        "id": "60ynH28wOkMv"
      },
      "outputs": [],
      "source": [
        "# Print the label of the index column\n"
      ]
    },
    {
      "cell_type": "code",
      "execution_count": null,
      "metadata": {
        "id": "1t4Z2PwHOkMv"
      },
      "outputs": [],
      "source": [
        "# Remove the label of the index column\n"
      ]
    },
    {
      "cell_type": "code",
      "execution_count": null,
      "metadata": {
        "id": "ZOZVpqgOOkMw"
      },
      "outputs": [],
      "source": [
        "# Check the created dataframe\n"
      ]
    },
    {
      "cell_type": "markdown",
      "metadata": {
        "id": "F9P2R1L6OkMw"
      },
      "source": [
        "Having meaningful row labels as indices helps you to select (subset) dataframes easily. You will study selecting dataframes in the next section. Let's now try to change the column headers."
      ]
    },
    {
      "cell_type": "markdown",
      "metadata": {
        "id": "cqq_UnEKOkMw"
      },
      "source": [
        "#### Column headers"
      ]
    },
    {
      "cell_type": "code",
      "execution_count": null,
      "metadata": {
        "id": "j3teiQZWOkMw"
      },
      "outputs": [],
      "source": [
        "# Print the column headers of the dataframe\n"
      ]
    },
    {
      "cell_type": "code",
      "execution_count": null,
      "metadata": {
        "id": "IhePqShLOkMw"
      },
      "outputs": [],
      "source": [
        "# Change the label of each column\n",
        "\n",
        "\n",
        "# Check the created dataframe\n"
      ]
    },
    {
      "cell_type": "markdown",
      "metadata": {
        "id": "_a5wac-3OkMx"
      },
      "source": [
        "Without the labels, it will be very difficult to remember the information stored in the columns. Now you can easily make sense from the entries stored in the dataframe. Let's now try to define multiple indices in a dataframe."
      ]
    },
    {
      "cell_type": "markdown",
      "metadata": {
        "id": "XaBptsJjOkMx"
      },
      "source": [
        "#### Multi-indexing in Pandas"
      ]
    },
    {
      "cell_type": "code",
      "execution_count": null,
      "metadata": {
        "id": "cD8jvkJzOkMx"
      },
      "outputs": [],
      "source": [
        "# Import the data from a csv file with multiple indices\n",
        "cars =\n",
        "\n",
        "# Check the created dataframe\n"
      ]
    },
    {
      "cell_type": "code",
      "execution_count": null,
      "metadata": {
        "id": "W7W1_bIyOkMx"
      },
      "outputs": [],
      "source": [
        "# Change the column names as above\n",
        "\n",
        "\n",
        "# Check the created dataframe\n"
      ]
    },
    {
      "cell_type": "code",
      "execution_count": null,
      "metadata": {
        "id": "UplosA6wOkMz"
      },
      "outputs": [],
      "source": [
        "# Print the index labels\n"
      ]
    },
    {
      "cell_type": "code",
      "execution_count": null,
      "metadata": {
        "id": "6Sp72JP4OkM0"
      },
      "outputs": [],
      "source": [
        "# Change the index labels: 0 - Region_code, 1 - Country_code\n",
        "\n",
        "\n",
        "# Check the created dataframe\n"
      ]
    },
    {
      "cell_type": "code",
      "execution_count": null,
      "metadata": {
        "id": "DD0ysdlTOkM1"
      },
      "outputs": [],
      "source": [
        "# Print the inforamtion of the index in the dataframe\n"
      ]
    },
    {
      "cell_type": "markdown",
      "metadata": {
        "id": "FDhEoXaLOkM2"
      },
      "source": [
        "Multi-indexing is very useful to establish a hierarchy in the entries. It helps to segregate data into different categories and makes it easier to analyse the data."
      ]
    }
  ],
  "metadata": {
    "kernelspec": {
      "display_name": "Python 3",
      "language": "python",
      "name": "python3"
    },
    "language_info": {
      "codemirror_mode": {
        "name": "ipython",
        "version": 3
      },
      "file_extension": ".py",
      "mimetype": "text/x-python",
      "name": "python",
      "nbconvert_exporter": "python",
      "pygments_lexer": "ipython3",
      "version": "3.7.0"
    },
    "colab": {
      "provenance": [],
      "include_colab_link": true
    }
  },
  "nbformat": 4,
  "nbformat_minor": 0
}