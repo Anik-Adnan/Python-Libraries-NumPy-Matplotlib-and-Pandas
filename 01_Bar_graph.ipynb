{
  "cells": [
    {
      "cell_type": "markdown",
      "metadata": {
        "id": "view-in-github",
        "colab_type": "text"
      },
      "source": [
        "<a href=\"https://colab.research.google.com/github/Anik-Adnan/Python-Libraries-NumPy-Matplotlib-and-Pandas/blob/main/01_Bar_graph.ipynb\" target=\"_parent\"><img src=\"https://colab.research.google.com/assets/colab-badge.svg\" alt=\"Open In Colab\"/></a>"
      ]
    },
    {
      "cell_type": "markdown",
      "metadata": {
        "id": "Z8Z2ny3jT5xB"
      },
      "source": [
        "## Visualisation in Python - Matplotlib"
      ]
    },
    {
      "cell_type": "markdown",
      "metadata": {
        "id": "pMIA7k_zT5xE"
      },
      "source": [
        "You will be working with the sales dataset for an online retailer. The data is collected over a period of three years: 2012 to 2015. It contains the information of sales made by the company.\n",
        "\n",
        "The products captured belong to three categories:\n",
        "-  Furniture\n",
        "-  Office Supplies\n",
        "-  Technology\n",
        "\n",
        "Also, the company caters to five different markets:\n",
        "-  USCA\n",
        "-  LATAM\n",
        "-  ASPAC\n",
        "-  EUR\n",
        "-  AFR\n",
        "\n",
        "Let's get started with the plots. We will be using the '**pyplot**' package of the Matplotlib library."
      ]
    },
    {
      "cell_type": "code",
      "execution_count": null,
      "metadata": {
        "id": "svgYbmEOT5xF"
      },
      "outputs": [],
      "source": [
        "# importing numpy and the pyplot package of matplotlib\n"
      ]
    },
    {
      "cell_type": "code",
      "execution_count": null,
      "metadata": {
        "id": "vx2RHky4T5xG"
      },
      "outputs": [],
      "source": [
        "# Creating an array with product categories\n"
      ]
    },
    {
      "cell_type": "code",
      "execution_count": null,
      "metadata": {
        "id": "RJyv5ZC5T5xG"
      },
      "outputs": [],
      "source": [
        "# Creating an array with the sales amount\n",
        "# Furniture: 4110451.90\n",
        "# Technology: 4744557.50\n",
        "# Office Supplies: 3787492.52\n",
        "\n"
      ]
    },
    {
      "cell_type": "markdown",
      "metadata": {
        "id": "rYkjmoPfT5xG"
      },
      "source": [
        "It is not necessary that you are provided with the aggregated values every time. In such cases, you first need to calculate the values and then build the graphs.\n",
        "\n",
        "Let's see how to plot a bar graph for the provided values."
      ]
    },
    {
      "cell_type": "markdown",
      "metadata": {
        "id": "2y5oD6N_T5xH"
      },
      "source": [
        "### Bar Graph: Plotting sales across each product category"
      ]
    },
    {
      "cell_type": "markdown",
      "metadata": {
        "id": "dxkihkaDT5xH"
      },
      "source": [
        "- A bar chart uses bars to show comparisons between categories of data.\n",
        "\n",
        "- One axis will generally have numerical values or measures,\n",
        "- The other will describe the types of categories being compared or dimensions.\n",
        "\n",
        "Let's start with plotting a bar graph representing the sales across different categories over the period."
      ]
    },
    {
      "cell_type": "code",
      "execution_count": null,
      "metadata": {
        "id": "Xb-GTuVST5xI"
      },
      "outputs": [],
      "source": [
        "# plotting the bar graph with product categories on x-axis and sales amount of y-axis\n",
        "\n",
        "\n",
        "# necessary command to display the created graph\n"
      ]
    },
    {
      "cell_type": "markdown",
      "metadata": {
        "id": "14Tk6C4zT5xI"
      },
      "source": [
        "#### Adding title and labeling axes in the graph"
      ]
    },
    {
      "cell_type": "code",
      "execution_count": null,
      "metadata": {
        "id": "IHw8we4hT5xI"
      },
      "outputs": [],
      "source": [
        "# plotting the bar graph with product categories on x-axis and sales amount of y-axis\n",
        "\n",
        "\n",
        "# adding title to the graph\n",
        "\n",
        "\n",
        "# labeling axes\n",
        "\n",
        "\n",
        "# necessary command to display the created graph\n"
      ]
    },
    {
      "cell_type": "markdown",
      "metadata": {
        "id": "xhVUvypaT5xJ"
      },
      "source": [
        "#### Modifying the bars in the graph"
      ]
    },
    {
      "cell_type": "code",
      "execution_count": null,
      "metadata": {
        "id": "tTyS04DFT5xJ"
      },
      "outputs": [],
      "source": [
        "# changing color of the bars in the bar graph\n",
        "# plotting the bar graph with product categories on x-axis and sales amount of y-axis\n",
        "\n",
        "\n",
        "# adding title to the graph\n",
        "\n",
        "\n",
        "# labeling axes\n",
        "\n",
        "\n",
        "# necessary command to display the created graph\n"
      ]
    },
    {
      "cell_type": "markdown",
      "metadata": {
        "id": "AYCQbqQQT5xJ"
      },
      "source": [
        "#### Adjusting tick values and the value labels"
      ]
    },
    {
      "cell_type": "code",
      "execution_count": null,
      "metadata": {
        "id": "Am8lwrUwT5xJ"
      },
      "outputs": [],
      "source": [
        "# plotting the bar graph with product categories on x-axis and sales amount of y-axis\n",
        "\n",
        "\n",
        "# adding title to the graph\n",
        "\n",
        "\n",
        "# labeling axes\n",
        "\n",
        "\n",
        "# Modifying the ticks to show information in (lakhs)\n",
        "tick_values =\n",
        "tick_labels =\n",
        "\n",
        "# necessary command to display the created graph\n",
        "\n"
      ]
    }
  ],
  "metadata": {
    "kernelspec": {
      "display_name": "Python 3",
      "language": "python",
      "name": "python3"
    },
    "language_info": {
      "codemirror_mode": {
        "name": "ipython",
        "version": 3
      },
      "file_extension": ".py",
      "mimetype": "text/x-python",
      "name": "python",
      "nbconvert_exporter": "python",
      "pygments_lexer": "ipython3",
      "version": "3.7.0"
    },
    "colab": {
      "provenance": [],
      "include_colab_link": true
    }
  },
  "nbformat": 4,
  "nbformat_minor": 0
}